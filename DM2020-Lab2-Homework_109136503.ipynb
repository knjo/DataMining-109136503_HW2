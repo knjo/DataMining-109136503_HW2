{
 "cells": [
  {
   "cell_type": "markdown",
   "metadata": {},
   "source": [
    "# Data Mining Lab 2\n",
    "\n",
    "### Student Information\n",
    "Name:  余頡\n",
    "\n",
    "Student ID:  109136503\n",
    "\n",
    "GitHub ID:  knjo5566 ,  20663759\n",
    "\n",
    "Kaggle name:\n",
    "\n",
    "Kaggle private scoreboard snapshot:\n",
    "\n",
    "[Snapshot](img/pic0.png)\n"
   ]
  },
  {
   "cell_type": "markdown",
   "metadata": {},
   "source": [
    "### Instructions"
   ]
  },
  {
   "cell_type": "markdown",
   "metadata": {},
   "source": [
    "1. First: __This part is worth 30% of your grade.__ Do the **take home** exercises in the [DM2020-Lab2-Master Repo](https://github.com/fhcalderon87/DM2020-Lab2-Master). You may need to copy some cells from the Lab notebook to this notebook. \n",
    "\n",
    "\n",
    "2. Second: __This part is worth 30% of your grade.__ Participate in the in-class [Kaggle Competition](https://www.kaggle.com/c/dm2020-hw2-nthu/) regarding Emotion Recognition on Twitter. The scoring will be given according to your place in the Private Leaderboard ranking: \n",
    "    - **Bottom 40%**: Get 20% of the score (ie. 20% of 30% )\n",
    "\n",
    "    - **Top 41% - 100%**: Get (101-x)% of the score, where x is your ranking in the leaderboard (ie. (101-x)% of 30% )   \n",
    "    Submit your last submission __BEFORE the deadline (Dec. 5th 11:59 pm, Saturday)__. Make sure to take a screenshot of your position at the end of the competition and store it as '''pic0.png''' under the **img** folder of this repository and rerun the cell **Student Information**.\n",
    "    \n",
    "\n",
    "3. Third: __This part is worth 30% of your grade.__ A report of your work developping the model for the competition (You can use code and comment it). This report should include what your preprocessing steps, the feature engineering steps and an explanation of your model. You can also mention different things you tried and insights you gained. \n",
    "\n",
    "\n",
    "4. Fourth: __This part is worth 10% of your grade.__ It's hard for us to follow if your code is messy :'(, so please **tidy up your notebook** and **add minimal comments where needed**.\n",
    "\n",
    "\n",
    "You can submit your homework following these guidelines: [Git Intro & How to hand your homework](https://github.com/fhcalderon87/DM2020-Lab1-Master/blob/master/Git%20Intro%20%26%20How%20to%20hand%20your%20homework.ipynb), but make sure to fork the [DM2020-Lab2-Homework](https://github.com/fhcalderon87/DM2020-Lab2-Homework) repository this time! Also please __DON´T UPLOAD HUGE DOCUMENTS__, please use Git ignore for that.\n",
    "\n",
    "Make sure to commit and save your changes to your repository __BEFORE the deadline (Dec. 8th 11:59 pm, Tuesday)__. "
   ]
  },
  {
   "cell_type": "markdown",
   "metadata": {},
   "source": [
    "---\n",
    "# First Part"
   ]
  },
  {
   "cell_type": "code",
   "execution_count": 1,
   "metadata": {},
   "outputs": [],
   "source": [
    "import pandas as pd\n",
    "\n",
    "### training data\n",
    "anger_train = pd.read_csv(\"data/semeval/train/anger-ratings-0to1.train.txt\",\n",
    "                         sep=\"\\t\", header=None,names=[\"id\", \"text\", \"emotion\", \"intensity\"])\n",
    "sadness_train = pd.read_csv(\"data/semeval/train/sadness-ratings-0to1.train.txt\",\n",
    "                         sep=\"\\t\", header=None, names=[\"id\", \"text\", \"emotion\", \"intensity\"])\n",
    "fear_train = pd.read_csv(\"data/semeval/train/fear-ratings-0to1.train.txt\",\n",
    "                         sep=\"\\t\", header=None, names=[\"id\", \"text\", \"emotion\", \"intensity\"])\n",
    "joy_train = pd.read_csv(\"data/semeval/train/joy-ratings-0to1.train.txt\",\n",
    "                         sep=\"\\t\", header=None, names=[\"id\", \"text\", \"emotion\", \"intensity\"])"
   ]
  },
  {
   "cell_type": "code",
   "execution_count": 2,
   "metadata": {},
   "outputs": [],
   "source": [
    "# combine 4 sub-dataset\n",
    "train_df = pd.concat([anger_train, fear_train, joy_train, sadness_train], ignore_index=True)"
   ]
  },
  {
   "cell_type": "code",
   "execution_count": 3,
   "metadata": {},
   "outputs": [
    {
     "data": {
      "text/html": [
       "<div>\n",
       "<style scoped>\n",
       "    .dataframe tbody tr th:only-of-type {\n",
       "        vertical-align: middle;\n",
       "    }\n",
       "\n",
       "    .dataframe tbody tr th {\n",
       "        vertical-align: top;\n",
       "    }\n",
       "\n",
       "    .dataframe thead th {\n",
       "        text-align: right;\n",
       "    }\n",
       "</style>\n",
       "<table border=\"1\" class=\"dataframe\">\n",
       "  <thead>\n",
       "    <tr style=\"text-align: right;\">\n",
       "      <th></th>\n",
       "      <th>id</th>\n",
       "      <th>text</th>\n",
       "      <th>emotion</th>\n",
       "      <th>intensity</th>\n",
       "    </tr>\n",
       "  </thead>\n",
       "  <tbody>\n",
       "    <tr>\n",
       "      <th>0</th>\n",
       "      <td>10000</td>\n",
       "      <td>How the fu*k! Who the heck! moved my fridge!.....</td>\n",
       "      <td>anger</td>\n",
       "      <td>0.938</td>\n",
       "    </tr>\n",
       "    <tr>\n",
       "      <th>1</th>\n",
       "      <td>10001</td>\n",
       "      <td>So my Indian Uber driver just called someone t...</td>\n",
       "      <td>anger</td>\n",
       "      <td>0.896</td>\n",
       "    </tr>\n",
       "    <tr>\n",
       "      <th>2</th>\n",
       "      <td>10002</td>\n",
       "      <td>@DPD_UK I asked for my parcel to be delivered ...</td>\n",
       "      <td>anger</td>\n",
       "      <td>0.896</td>\n",
       "    </tr>\n",
       "    <tr>\n",
       "      <th>3</th>\n",
       "      <td>10003</td>\n",
       "      <td>so ef whichever butt wipe pulled the fire alar...</td>\n",
       "      <td>anger</td>\n",
       "      <td>0.896</td>\n",
       "    </tr>\n",
       "    <tr>\n",
       "      <th>4</th>\n",
       "      <td>10004</td>\n",
       "      <td>Don't join @BTCare they put the phone down on ...</td>\n",
       "      <td>anger</td>\n",
       "      <td>0.896</td>\n",
       "    </tr>\n",
       "  </tbody>\n",
       "</table>\n",
       "</div>"
      ],
      "text/plain": [
       "      id                                               text emotion  intensity\n",
       "0  10000  How the fu*k! Who the heck! moved my fridge!.....   anger      0.938\n",
       "1  10001  So my Indian Uber driver just called someone t...   anger      0.896\n",
       "2  10002  @DPD_UK I asked for my parcel to be delivered ...   anger      0.896\n",
       "3  10003  so ef whichever butt wipe pulled the fire alar...   anger      0.896\n",
       "4  10004  Don't join @BTCare they put the phone down on ...   anger      0.896"
      ]
     },
     "execution_count": 3,
     "metadata": {},
     "output_type": "execute_result"
    }
   ],
   "source": [
    "### testing data\n",
    "anger_test = pd.read_csv(\"data/semeval/dev/anger-ratings-0to1.dev.gold.txt\",\n",
    "                         sep=\"\\t\", header=None, names=[\"id\", \"text\", \"emotion\", \"intensity\"])\n",
    "sadness_test = pd.read_csv(\"data/semeval/dev/sadness-ratings-0to1.dev.gold.txt\",\n",
    "                         sep=\"\\t\", header=None, names=[\"id\", \"text\", \"emotion\", \"intensity\"])\n",
    "fear_test = pd.read_csv(\"data/semeval/dev/fear-ratings-0to1.dev.gold.txt\",\n",
    "                         sep=\"\\t\", header=None, names=[\"id\", \"text\", \"emotion\", \"intensity\"])\n",
    "joy_test = pd.read_csv(\"data/semeval/dev/joy-ratings-0to1.dev.gold.txt\",\n",
    "                         sep=\"\\t\", header=None, names=[\"id\", \"text\", \"emotion\", \"intensity\"])\n",
    "\n",
    "# combine 4 sub-dataset\n",
    "test_df = pd.concat([anger_test, fear_test, joy_test, sadness_test], ignore_index=True)\n",
    "train_df.head()"
   ]
  },
  {
   "cell_type": "code",
   "execution_count": 4,
   "metadata": {},
   "outputs": [],
   "source": [
    "# shuffle dataset\n",
    "train_df = train_df.sample(frac=1)\n",
    "test_df = test_df.sample(frac=1)"
   ]
  },
  {
   "cell_type": "markdown",
   "metadata": {},
   "source": [
    "---\n",
    "## >>> Exercise 1 (Take home): \n",
    "Plot word frequency for Top 30 words in both train and test dataset. (Hint: refer to DM lab 1)\n"
   ]
  },
  {
   "cell_type": "code",
   "execution_count": 5,
   "metadata": {},
   "outputs": [],
   "source": [
    "import numpy as np\n",
    "\n",
    "## fuction to create a array for frequency\n",
    "def count_frequency( counts ):\n",
    "    term_frequencies = []\n",
    "    for j in range(0,counts.shape[1]):\n",
    "        term_frequencies.append(sum(counts[:,j].toarray()))\n",
    "    term_frequencies = np.asarray(counts.sum(axis=0))[0]\n",
    "    return term_frequencies"
   ]
  },
  {
   "cell_type": "code",
   "execution_count": 6,
   "metadata": {},
   "outputs": [],
   "source": [
    "## fuction to sort word dataframe\n",
    "def sort_data(count_vect , sort_data):\n",
    "    ## tokenize the text \n",
    "    df_counts = count_vect.fit_transform(sort_data.text)\n",
    "    \n",
    "    ## creat a dataframe of wold and frequency \n",
    "    df_sort = pd.DataFrame(count_vect.get_feature_names() , columns= ['words'] )\n",
    "    df_sort['frequency'] = count_frequency(df_counts)[0:len(df_sort)]\n",
    "    \n",
    "    ## sort the data by frequency \n",
    "    df_sort.sort_values(by='frequency' , ascending=False, axis =0 , inplace=True)\n",
    "    return df_sort"
   ]
  },
  {
   "cell_type": "code",
   "execution_count": 7,
   "metadata": {},
   "outputs": [
    {
     "name": "stdout",
     "output_type": "stream",
     "text": [
      "Top 30 world in training data : \n",
      "       words  frequency\n",
      "8930    the       1736\n",
      "9119     to       1289\n",
      "537     and        955\n",
      "10051   you        796\n",
      "6371     of        793\n",
      "4546     is        787\n",
      "4571     it        717\n",
      "4383     in        626\n",
      "8924   that        537\n",
      "5957     my        535\n",
      "3391    for        446\n",
      "6422     on        390\n",
      "976      be        383\n",
      "5577     me        380\n",
      "9020   this        350\n",
      "8264     so        328\n",
      "4009   have        312\n",
      "6235    not        303\n",
      "4798   just        301\n",
      "1448    but        293\n",
      "9872   with        288\n",
      "757      at        269\n",
      "1504    can        257\n",
      "464     all        243\n",
      "5186   like        243\n",
      "670     are        231\n",
      "10059  your        229\n",
      "9678    was        228\n",
      "9782   when        226\n",
      "4319     if        216 \n",
      "\n",
      "Top 30 world in testing data : \n",
      "      words  frequency\n",
      "1687   the        153\n",
      "1739    to        138\n",
      "99     and         92\n",
      "1240    of         83\n",
      "909     it         83\n",
      "1938   you         82\n",
      "903     is         77\n",
      "867     in         69\n",
      "655    for         57\n",
      "1686  that         55\n",
      "1165    my         52\n",
      "1257    on         46\n",
      "185     be         40\n",
      "1088    me         36\n",
      "1567    so         34\n",
      "1843   was         34\n",
      "290    can         32\n",
      "785   have         30\n",
      "82     all         30\n",
      "150     at         30\n",
      "934   just         29\n",
      "1893  with         29\n",
      "133    are         29\n",
      "705    get         26\n",
      "277    but         26\n",
      "1212   not         24\n",
      "1804    up         24\n",
      "1009  like         24\n",
      "1940  your         24\n",
      "1712  this         24\n"
     ]
    }
   ],
   "source": [
    "import nltk\n",
    "from sklearn.feature_extraction.text import CountVectorizer\n",
    "\n",
    "count_vect = CountVectorizer()\n",
    "\n",
    "train_sort = sort_data(count_vect , train_df)\n",
    "print (\"Top 30 world in training data : \\n\" ,train_sort[0:30] , \"\\n\")\n",
    "\n",
    "test_sort = sort_data(count_vect , test_df)\n",
    "print (\"Top 30 world in testing data : \\n\" ,test_sort[0:30])"
   ]
  },
  {
   "cell_type": "markdown",
   "metadata": {},
   "source": [
    "---\n",
    "## >>> Exercise 2 (Take home): \n",
    "Generate an embedding using the TF-IDF vectorizer instead of th BOW one with 1000 features and show the feature names for features [100:110]."
   ]
  },
  {
   "cell_type": "code",
   "execution_count": 8,
   "metadata": {},
   "outputs": [],
   "source": [
    "from sklearn.feature_extraction.text import TfidfTransformer\n",
    "from sklearn.model_selection import train_test_split\n",
    "from sklearn.feature_extraction.text import TfidfVectorizer\n",
    "\n",
    "## instantiate vectorizer with feature 1000\n",
    "TF_vectorizer = TfidfVectorizer(max_features=1000, tokenizer=nltk.word_tokenize)"
   ]
  },
  {
   "cell_type": "code",
   "execution_count": 10,
   "metadata": {},
   "outputs": [
    {
     "name": "stdout",
     "output_type": "stream",
     "text": [
      "Feature name of training dat :  ['awareness', 'away', 'awe', 'awesome', 'awful', 'b', 'baby', 'back', 'bad', 'ball']\n"
     ]
    }
   ],
   "source": [
    "## use TfidfVectorizer, which is the equivalent of CountVectorizer followed by TfidfTransformer\n",
    "train_df_TF_1000 = TF_vectorizer.fit_transform(train_df['text'])\n",
    "feature_names = TF_vectorizer.get_feature_names()\n",
    "print (\"Feature name of training dat : \" ,feature_names[100:110])"
   ]
  },
  {
   "cell_type": "markdown",
   "metadata": {},
   "source": [
    "---\n",
    "##  >>> Exercise 3 (Take home): \n",
    "Can you interpret the results above? What do they mean?"
   ]
  },
  {
   "cell_type": "markdown",
   "metadata": {},
   "source": [
    "### What is the result above?\n",
    "\n",
    "The plot above is the confusion matrix be ploted with certain color pattern.\n",
    "\n",
    "\n",
    "### What do they mean?\n",
    "\n",
    "We can observe the x & y label. X laber is `True`, implies what the emotion of the text actually is. On the other hand, Y label, `predicted` shows the predicted emotion. So, only the center parts (the `predicted` class is same to `true` class) are correct prediction.\n",
    "\n",
    "By the number on the plot, We can first see that the testing data predicted correctly are major, and we can know the recall rate and precision by line and row. And we can soon find out that the fear part be predicted more than other emotion. This is due to the data imbalance, the fear class is more than other three, so it's normal that we get a imbalance result."
   ]
  },
  {
   "cell_type": "markdown",
   "metadata": {},
   "source": [
    "---\n",
    "##  >>> Exercise 4 (Take home):  \n",
    "Build a model using a ```Naive Bayes``` model and train it. What are the testing results? \n",
    "\n",
    "*Reference*: https://scikit-learn.org/stable/modules/generated/sklearn.naive_bayes.MultinomialNB.html"
   ]
  },
  {
   "cell_type": "code",
   "execution_count": 11,
   "metadata": {},
   "outputs": [
    {
     "name": "stderr",
     "output_type": "stream",
     "text": [
      "C:\\ProgramData\\Anaconda3\\lib\\site-packages\\sklearn\\feature_extraction\\text.py:484: UserWarning: The parameter 'token_pattern' will not be used since 'tokenizer' is not None'\n",
      "  warnings.warn(\"The parameter 'token_pattern' will not be used\"\n"
     ]
    }
   ],
   "source": [
    "from sklearn.naive_bayes import MultinomialNB\n",
    "from sklearn.metrics import accuracy_score\n",
    "from sklearn.metrics import classification_report\n",
    "from sklearn.metrics import confusion_matrix\n",
    "\n",
    "\n",
    "# build analyzers (bag-of-words)\n",
    "BOW_500 = CountVectorizer(max_features=500, tokenizer=nltk.word_tokenize) \n",
    "# apply analyzer to training data, so that the testing data will be vectorized by vectors in training data \n",
    "BOW_500.fit(train_df['text'])\n",
    "\n",
    "# for a classificaiton problem, you need to provide both training & testing data\n",
    "X_train = BOW_500.transform(train_df['text'])\n",
    "y_train = train_df['emotion']\n",
    "\n",
    "X_test = BOW_500.transform(test_df['text'])\n",
    "y_test = test_df['emotion']"
   ]
  },
  {
   "cell_type": "code",
   "execution_count": 12,
   "metadata": {},
   "outputs": [],
   "source": [
    "## build Naive Bayes model and training\n",
    "NB_model = MultinomialNB()\n",
    "NB_model.fit(X_train,y_train)\n",
    "\n",
    "## predict\n",
    "y_train_pred = NB_model.predict(X_train)\n",
    "y_test_pred = NB_model.predict(X_test)"
   ]
  },
  {
   "cell_type": "code",
   "execution_count": 13,
   "metadata": {},
   "outputs": [
    {
     "name": "stdout",
     "output_type": "stream",
     "text": [
      "training accuracy: 0.79\n",
      "testing accuracy: 0.69 \n",
      "\n",
      "              precision    recall  f1-score   support\n",
      "\n",
      "       anger       0.65      0.65      0.65        84\n",
      "        fear       0.72      0.77      0.75       110\n",
      "         joy       0.76      0.70      0.73        79\n",
      "     sadness       0.63      0.62      0.63        74\n",
      "\n",
      "    accuracy                           0.69       347\n",
      "   macro avg       0.69      0.69      0.69       347\n",
      "weighted avg       0.70      0.69      0.69       347\n",
      "\n"
     ]
    }
   ],
   "source": [
    "## get the predicted result. \n",
    "acc_train = accuracy_score(y_true=y_train, y_pred=y_train_pred)\n",
    "acc_test = accuracy_score(y_true=y_test, y_pred=y_test_pred)\n",
    "\n",
    "print('training accuracy: {}'.format(round(acc_train, 2)))\n",
    "print('testing accuracy: {}'.format(round(acc_test, 2)),\"\\n\")\n",
    "\n",
    "print(classification_report(y_true=y_test, y_pred=y_test_pred))"
   ]
  },
  {
   "cell_type": "code",
   "execution_count": 14,
   "metadata": {},
   "outputs": [
    {
     "name": "stdout",
     "output_type": "stream",
     "text": [
      "[[55 15  5  9]\n",
      " [ 8 85  5 12]\n",
      " [10  8 55  6]\n",
      " [11 10  7 46]]\n"
     ]
    }
   ],
   "source": [
    "cm = confusion_matrix(y_true=y_test, y_pred=y_test_pred) \n",
    "print(cm)"
   ]
  },
  {
   "cell_type": "markdown",
   "metadata": {},
   "source": [
    "---\n",
    "## >>> Exercise 5 (Take home): \n",
    "\n",
    "How do the results from the Naive Bayes model and the Decision Tree model compare? How do you interpret these differences? Use the theoretical background covered in class to try and explain these differences."
   ]
  },
  {
   "cell_type": "markdown",
   "metadata": {},
   "source": [
    "### Differences between two model \n",
    "\n",
    "1. The accuracy score of `training` data is hugely different, DT model is better than NB model.\n",
    "2. Some how the perfomance (precision & recall) shows that NB model is better.\n",
    "\n",
    "### My opinions\n",
    "1. The branch on Decision Tree is decide by the value of certain vector(feature), it will take a risk of `overfitting` if the feature has no actual correlation with outcome, or the training data and testing data is bias.\n",
    "2. NB model predicts the result by computing the maximum likehood, so it will get the result by sum up all the posterior probabilty of words, in this method, the model has higher variance and lower bias. \n",
    "3. NB model has more robustness to outlier and high dimension data compare to DT model. The practicality of DT model will reduce rapidly as dimension going higher, and it's so call `curse of dimension`, the DT model make a prediction by just several features in such high dimension data. "
   ]
  },
  {
   "cell_type": "markdown",
   "metadata": {},
   "source": [
    "---\n"
   ]
  },
  {
   "cell_type": "markdown",
   "metadata": {},
   "source": [
    "\n",
    "###  Deal with categorical label (y)\n"
   ]
  },
  {
   "cell_type": "code",
   "execution_count": 15,
   "metadata": {},
   "outputs": [
    {
     "name": "stderr",
     "output_type": "stream",
     "text": [
      "Using TensorFlow backend.\n",
      "C:\\ProgramData\\Anaconda3\\lib\\site-packages\\tensorflow\\python\\framework\\dtypes.py:516: FutureWarning: Passing (type, 1) or '1type' as a synonym of type is deprecated; in a future version of numpy, it will be understood as (type, (1,)) / '(1,)type'.\n",
      "  _np_qint8 = np.dtype([(\"qint8\", np.int8, 1)])\n",
      "C:\\ProgramData\\Anaconda3\\lib\\site-packages\\tensorflow\\python\\framework\\dtypes.py:517: FutureWarning: Passing (type, 1) or '1type' as a synonym of type is deprecated; in a future version of numpy, it will be understood as (type, (1,)) / '(1,)type'.\n",
      "  _np_quint8 = np.dtype([(\"quint8\", np.uint8, 1)])\n",
      "C:\\ProgramData\\Anaconda3\\lib\\site-packages\\tensorflow\\python\\framework\\dtypes.py:518: FutureWarning: Passing (type, 1) or '1type' as a synonym of type is deprecated; in a future version of numpy, it will be understood as (type, (1,)) / '(1,)type'.\n",
      "  _np_qint16 = np.dtype([(\"qint16\", np.int16, 1)])\n",
      "C:\\ProgramData\\Anaconda3\\lib\\site-packages\\tensorflow\\python\\framework\\dtypes.py:519: FutureWarning: Passing (type, 1) or '1type' as a synonym of type is deprecated; in a future version of numpy, it will be understood as (type, (1,)) / '(1,)type'.\n",
      "  _np_quint16 = np.dtype([(\"quint16\", np.uint16, 1)])\n",
      "C:\\ProgramData\\Anaconda3\\lib\\site-packages\\tensorflow\\python\\framework\\dtypes.py:520: FutureWarning: Passing (type, 1) or '1type' as a synonym of type is deprecated; in a future version of numpy, it will be understood as (type, (1,)) / '(1,)type'.\n",
      "  _np_qint32 = np.dtype([(\"qint32\", np.int32, 1)])\n",
      "C:\\ProgramData\\Anaconda3\\lib\\site-packages\\tensorflow\\python\\framework\\dtypes.py:525: FutureWarning: Passing (type, 1) or '1type' as a synonym of type is deprecated; in a future version of numpy, it will be understood as (type, (1,)) / '(1,)type'.\n",
      "  np_resource = np.dtype([(\"resource\", np.ubyte, 1)])\n",
      "C:\\ProgramData\\Anaconda3\\lib\\site-packages\\tensorboard\\compat\\tensorflow_stub\\dtypes.py:541: FutureWarning: Passing (type, 1) or '1type' as a synonym of type is deprecated; in a future version of numpy, it will be understood as (type, (1,)) / '(1,)type'.\n",
      "  _np_qint8 = np.dtype([(\"qint8\", np.int8, 1)])\n",
      "C:\\ProgramData\\Anaconda3\\lib\\site-packages\\tensorboard\\compat\\tensorflow_stub\\dtypes.py:542: FutureWarning: Passing (type, 1) or '1type' as a synonym of type is deprecated; in a future version of numpy, it will be understood as (type, (1,)) / '(1,)type'.\n",
      "  _np_quint8 = np.dtype([(\"quint8\", np.uint8, 1)])\n",
      "C:\\ProgramData\\Anaconda3\\lib\\site-packages\\tensorboard\\compat\\tensorflow_stub\\dtypes.py:543: FutureWarning: Passing (type, 1) or '1type' as a synonym of type is deprecated; in a future version of numpy, it will be understood as (type, (1,)) / '(1,)type'.\n",
      "  _np_qint16 = np.dtype([(\"qint16\", np.int16, 1)])\n",
      "C:\\ProgramData\\Anaconda3\\lib\\site-packages\\tensorboard\\compat\\tensorflow_stub\\dtypes.py:544: FutureWarning: Passing (type, 1) or '1type' as a synonym of type is deprecated; in a future version of numpy, it will be understood as (type, (1,)) / '(1,)type'.\n",
      "  _np_quint16 = np.dtype([(\"quint16\", np.uint16, 1)])\n",
      "C:\\ProgramData\\Anaconda3\\lib\\site-packages\\tensorboard\\compat\\tensorflow_stub\\dtypes.py:545: FutureWarning: Passing (type, 1) or '1type' as a synonym of type is deprecated; in a future version of numpy, it will be understood as (type, (1,)) / '(1,)type'.\n",
      "  _np_qint32 = np.dtype([(\"qint32\", np.int32, 1)])\n",
      "C:\\ProgramData\\Anaconda3\\lib\\site-packages\\tensorboard\\compat\\tensorflow_stub\\dtypes.py:550: FutureWarning: Passing (type, 1) or '1type' as a synonym of type is deprecated; in a future version of numpy, it will be understood as (type, (1,)) / '(1,)type'.\n",
      "  np_resource = np.dtype([(\"resource\", np.ubyte, 1)])\n"
     ]
    }
   ],
   "source": [
    "import keras\n",
    "from sklearn.preprocessing import LabelEncoder\n",
    "\n",
    "label_encoder = LabelEncoder()\n",
    "label_encoder.fit(y_train)\n",
    "\n",
    "def label_encode(le, labels):\n",
    "    enc = le.transform(labels)\n",
    "    return keras.utils.to_categorical(enc)\n",
    "\n",
    "def label_decode(le, one_hot_label):\n",
    "    dec = np.argmax(one_hot_label, axis=1)\n",
    "    return le.inverse_transform(dec)\n",
    "\n",
    "y_train = label_encode(label_encoder, y_train)\n",
    "y_test = label_encode(label_encoder, y_test)"
   ]
  },
  {
   "cell_type": "markdown",
   "metadata": {},
   "source": [
    "###  Build model"
   ]
  },
  {
   "cell_type": "code",
   "execution_count": 16,
   "metadata": {},
   "outputs": [
    {
     "name": "stdout",
     "output_type": "stream",
     "text": [
      "Model: \"model_1\"\n",
      "_________________________________________________________________\n",
      "Layer (type)                 Output Shape              Param #   \n",
      "=================================================================\n",
      "input_1 (InputLayer)         (None, 500)               0         \n",
      "_________________________________________________________________\n",
      "dense_1 (Dense)              (None, 64)                32064     \n",
      "_________________________________________________________________\n",
      "re_lu_1 (ReLU)               (None, 64)                0         \n",
      "_________________________________________________________________\n",
      "dense_2 (Dense)              (None, 64)                4160      \n",
      "_________________________________________________________________\n",
      "re_lu_2 (ReLU)               (None, 64)                0         \n",
      "_________________________________________________________________\n",
      "dense_3 (Dense)              (None, 4)                 260       \n",
      "_________________________________________________________________\n",
      "softmax_1 (Softmax)          (None, 4)                 0         \n",
      "=================================================================\n",
      "Total params: 36,484\n",
      "Trainable params: 36,484\n",
      "Non-trainable params: 0\n",
      "_________________________________________________________________\n"
     ]
    }
   ],
   "source": [
    "from keras.models import Model\n",
    "from keras.layers import Input, Dense\n",
    "from keras.layers import ReLU, Softmax\n",
    "\n",
    "input_shape = X_train.shape[1]\n",
    "output_shape = len(label_encoder.classes_)\n",
    "\n",
    "# input layer\n",
    "model_input = Input(shape=(input_shape, ))  # 500\n",
    "X = model_input\n",
    "\n",
    "# 1st hidden layer\n",
    "X_W1 = Dense(units=64)(X)  # 64\n",
    "H1 = ReLU()(X_W1)\n",
    "\n",
    "# 2nd hidden layer\n",
    "H1_W2 = Dense(units=64)(H1)  # 64\n",
    "H2 = ReLU()(H1_W2)\n",
    "\n",
    "# output layer\n",
    "H2_W3 = Dense(units=output_shape)(H2)  # 4\n",
    "H3 = Softmax()(H2_W3)\n",
    "\n",
    "model_output = H3\n",
    "\n",
    "# create model\n",
    "model = Model(inputs=[model_input], outputs=[model_output])\n",
    "\n",
    "# loss function & optimizer\n",
    "model.compile(optimizer='adam',\n",
    "              loss='categorical_crossentropy',\n",
    "              metrics=['accuracy'])\n",
    "\n",
    "# show model construction\n",
    "model.summary()"
   ]
  },
  {
   "cell_type": "markdown",
   "metadata": {},
   "source": [
    "###  Train"
   ]
  },
  {
   "cell_type": "code",
   "execution_count": 17,
   "metadata": {},
   "outputs": [
    {
     "name": "stdout",
     "output_type": "stream",
     "text": [
      "WARNING:tensorflow:From C:\\ProgramData\\Anaconda3\\lib\\site-packages\\keras\\backend\\tensorflow_backend.py:422: The name tf.global_variables is deprecated. Please use tf.compat.v1.global_variables instead.\n",
      "\n",
      "Train on 3613 samples, validate on 347 samples\n",
      "Epoch 1/25\n",
      "3613/3613 [==============================] - 0s 86us/step - loss: 1.3377 - accuracy: 0.3546 - val_loss: 1.3037 - val_accuracy: 0.4265\n",
      "Epoch 2/25\n",
      "3613/3613 [==============================] - 0s 44us/step - loss: 1.0361 - accuracy: 0.6286 - val_loss: 0.9512 - val_accuracy: 0.6398\n",
      "Epoch 3/25\n",
      "3613/3613 [==============================] - 0s 44us/step - loss: 0.6100 - accuracy: 0.7822 - val_loss: 0.7740 - val_accuracy: 0.7089\n",
      "Epoch 4/25\n",
      "3613/3613 [==============================] - 0s 44us/step - loss: 0.4259 - accuracy: 0.8453 - val_loss: 0.8084 - val_accuracy: 0.6859\n",
      "Epoch 5/25\n",
      "3613/3613 [==============================] - 0s 44us/step - loss: 0.3371 - accuracy: 0.8813 - val_loss: 0.8415 - val_accuracy: 0.7032\n",
      "Epoch 6/25\n",
      "3613/3613 [==============================] - 0s 43us/step - loss: 0.2721 - accuracy: 0.9076 - val_loss: 0.8472 - val_accuracy: 0.7003\n",
      "Epoch 7/25\n",
      "3613/3613 [==============================] - 0s 41us/step - loss: 0.2189 - accuracy: 0.9294 - val_loss: 0.9429 - val_accuracy: 0.6628\n",
      "Epoch 8/25\n",
      "3613/3613 [==============================] - 0s 41us/step - loss: 0.1861 - accuracy: 0.9433 - val_loss: 1.0136 - val_accuracy: 0.7003\n",
      "Epoch 9/25\n",
      "3613/3613 [==============================] - 0s 39us/step - loss: 0.1605 - accuracy: 0.9510 - val_loss: 1.0563 - val_accuracy: 0.6888\n",
      "Epoch 10/25\n",
      "3613/3613 [==============================] - 0s 41us/step - loss: 0.1375 - accuracy: 0.9588 - val_loss: 1.1445 - val_accuracy: 0.6628\n",
      "Epoch 11/25\n",
      "3613/3613 [==============================] - 0s 40us/step - loss: 0.1293 - accuracy: 0.9615 - val_loss: 1.1726 - val_accuracy: 0.6772\n",
      "Epoch 12/25\n",
      "3613/3613 [==============================] - 0s 42us/step - loss: 0.1107 - accuracy: 0.9668 - val_loss: 1.2419 - val_accuracy: 0.6888\n",
      "Epoch 13/25\n",
      "3613/3613 [==============================] - 0s 40us/step - loss: 0.0993 - accuracy: 0.9701 - val_loss: 1.2644 - val_accuracy: 0.6571\n",
      "Epoch 14/25\n",
      "3613/3613 [==============================] - 0s 40us/step - loss: 0.0912 - accuracy: 0.9712 - val_loss: 1.3451 - val_accuracy: 0.6513\n",
      "Epoch 15/25\n",
      "3613/3613 [==============================] - 0s 40us/step - loss: 0.0946 - accuracy: 0.9718 - val_loss: 1.3353 - val_accuracy: 0.6513\n",
      "Epoch 16/25\n",
      "3613/3613 [==============================] - 0s 42us/step - loss: 0.0821 - accuracy: 0.9748 - val_loss: 1.3522 - val_accuracy: 0.6455\n",
      "Epoch 17/25\n",
      "3613/3613 [==============================] - 0s 42us/step - loss: 0.0819 - accuracy: 0.9762 - val_loss: 1.3978 - val_accuracy: 0.6513\n",
      "Epoch 18/25\n",
      "3613/3613 [==============================] - 0s 40us/step - loss: 0.0779 - accuracy: 0.9754 - val_loss: 1.4274 - val_accuracy: 0.6599\n",
      "Epoch 19/25\n",
      "3613/3613 [==============================] - 0s 40us/step - loss: 0.0695 - accuracy: 0.9743 - val_loss: 1.4687 - val_accuracy: 0.6599\n",
      "Epoch 20/25\n",
      "3613/3613 [==============================] - 0s 41us/step - loss: 0.0713 - accuracy: 0.9762 - val_loss: 1.4846 - val_accuracy: 0.6513\n",
      "Epoch 21/25\n",
      "3613/3613 [==============================] - 0s 42us/step - loss: 0.0683 - accuracy: 0.9770 - val_loss: 1.5283 - val_accuracy: 0.6571\n",
      "Epoch 22/25\n",
      "3613/3613 [==============================] - 0s 43us/step - loss: 0.0648 - accuracy: 0.9765 - val_loss: 1.5194 - val_accuracy: 0.6657\n",
      "Epoch 23/25\n",
      "3613/3613 [==============================] - 0s 41us/step - loss: 0.0627 - accuracy: 0.9787 - val_loss: 1.5706 - val_accuracy: 0.6571\n",
      "Epoch 24/25\n",
      "3613/3613 [==============================] - 0s 41us/step - loss: 0.0661 - accuracy: 0.9754 - val_loss: 1.5997 - val_accuracy: 0.6455\n",
      "Epoch 25/25\n",
      "3613/3613 [==============================] - 0s 41us/step - loss: 0.0565 - accuracy: 0.9790 - val_loss: 1.6026 - val_accuracy: 0.6599\n",
      "training finish\n"
     ]
    }
   ],
   "source": [
    "from keras.callbacks import CSVLogger\n",
    "\n",
    "csv_logger = CSVLogger('logs/training_log.csv')\n",
    "\n",
    "# training setting\n",
    "epochs = 25\n",
    "batch_size = 32\n",
    "\n",
    "# training!\n",
    "history = model.fit(X_train, y_train, \n",
    "                    epochs=epochs, \n",
    "                    batch_size=batch_size, \n",
    "                    callbacks=[csv_logger],\n",
    "                    validation_data = (X_test, y_test))\n",
    "print('training finish')"
   ]
  },
  {
   "cell_type": "markdown",
   "metadata": {},
   "source": [
    "###  Predict on testing data"
   ]
  },
  {
   "cell_type": "code",
   "execution_count": 18,
   "metadata": {},
   "outputs": [],
   "source": [
    "## predict\n",
    "pred_result = model.predict(X_test, batch_size=128)\n",
    "pred_result = label_decode(label_encoder, pred_result)\n",
    "\n",
    "## import the training log\n",
    "training_log = pd.DataFrame()\n",
    "training_log = pd.read_csv(\"logs/training_log.csv\")"
   ]
  },
  {
   "cell_type": "markdown",
   "metadata": {},
   "source": [
    "---\n",
    "##  >>> Exercise 6 (Take home):  \n",
    "\n",
    "Plot the Training and Validation Accuracy and Loss (different plots), just like the images below (Note: the pictures below are an example from a different model). How to interpret the graphs you got? How are they related to the concept of overfitting/underfitting covered in class?\n",
    "<table><tr>\n",
    "    <td><img src=\"pics/pic3.png\" style=\"width: 300px;\"/> </td>\n",
    "    <td><img src=\"pics/pic4.png\" style=\"width: 300px;\"/> </td>\n",
    "</tr></table>"
   ]
  },
  {
   "cell_type": "code",
   "execution_count": 19,
   "metadata": {},
   "outputs": [
    {
     "data": {
      "image/png": "[encoded data removed]",
      "text/plain": [
       "<Figure size 720x360 with 1 Axes>"
      ]
     },
     "metadata": {
      "needs_background": "light"
     },
     "output_type": "display_data"
    }
   ],
   "source": [
    "import matplotlib.pyplot as plt\n",
    "\n",
    "## set up figure size\n",
    "plt.figure(figsize = (10,5))\n",
    "plt.plot(training_log['accuracy'], color = 'b',label = \"Train accuracy\")\n",
    "plt.plot(training_log['val_accuracy'], color = 'r' ,label = \"Val accuracy\")\n",
    "plt.xlabel(\"Epochs\", fontsize = 15)\n",
    "plt.ylabel(\"Accuracy\", fontsize = 15)\n",
    "plt.legend(loc='best',fontsize =15)\n",
    "plt.show()"
   ]
  },
  {
   "cell_type": "code",
   "execution_count": 20,
   "metadata": {},
   "outputs": [
    {
     "data": {
      "image/png": "[encoded data removed]",
      "text/plain": [
       "<Figure size 720x360 with 1 Axes>"
      ]
     },
     "metadata": {
      "needs_background": "light"
     },
     "output_type": "display_data"
    }
   ],
   "source": [
    "plt.figure(figsize = (10,5))\n",
    "plt.plot(training_log['loss'], color = 'b',label = \"Train loss\")\n",
    "plt.plot(training_log['val_loss'], color = 'r' ,label = \"Val loss\")\n",
    "plt.xlabel(\"Epochs\", fontsize = 15)\n",
    "plt.ylabel(\"Loss\", fontsize = 15)\n",
    "plt.legend(loc='best',fontsize =15)\n",
    "plt.show()"
   ]
  },
  {
   "cell_type": "markdown",
   "metadata": {},
   "source": [
    "### How do i interpret the plot above ?\n",
    "\n",
    "By the label we know the plots are accuarcy and loss trend as Epochs increasing. And the data is come from the `training log` which recoded the score in each epoch.\n",
    "\n",
    "### How are they related to the concept of overfitting/underfitting covered in class?\n",
    "\n",
    "+ We first observed the `accuracy` plot :  Accuracy increase rapidly in the begining. Then the curve go smooth, accuracy of training data is close to `0.97`, but testing only `0.65` and even decline a little bit. \n",
    "    - The begin decline is because the model train well after several Epochs. The model find better network assemblance, and the previous part with low accuary is  **underfittiing**. \n",
    "    - The reason why training accuary can not converge to almost `1` is because the **noise**, which make the prediction have certain uncertainty. \n",
    "    - This **gap** between training and testing data is because the insufficient train data, it can represent the whole data set, and it's so call **bias of data set**.\n",
    "\n",
    "\n",
    "+ We then observed the `loss` plot : Loss decline rapidly in the begining. Then the loss of training data go smooth, however,  the testing one grow abruptly. \n",
    "    - The begin high loss is because the model didn't train well (underfitting).\n",
    "    - The reason why the `loss` part grow up is our model trained to fit the training data too much, for example, some node inside the network might increase the performance of training data set. But, as i mention above, data hardly is unbias, so, the model be train too well to fit the training data, **even the noise and the bias**, and this is so call **overfitting**. In the result, this overfitting part turn out to be the error / loss."
   ]
  },
  {
   "cell_type": "markdown",
   "metadata": {},
   "source": [
    "---\n",
    "\n",
    "###  Prepare training corpus"
   ]
  },
  {
   "cell_type": "code",
   "execution_count": 21,
   "metadata": {},
   "outputs": [],
   "source": [
    "## check library\n",
    "import gensim\n",
    "\n",
    "## ignore warnings\n",
    "import warnings\n",
    "warnings.filterwarnings('ignore')\n",
    "\n",
    "# # if you want to see the training messages, you can use it\n",
    "# import logging\n",
    "# logging.basicConfig(format='%(asctime)s : %(levelname)s : %(message)s', level=logging.INFO)\n",
    "\n",
    "## the input type\n",
    "train_df['text_tokenized'] = train_df['text'].apply(lambda x: nltk.word_tokenize(x))\n",
    "train_df[['id', 'text', 'text_tokenized']].head()\n",
    "\n",
    "## create the training corpus\n",
    "training_corpus = train_df['text_tokenized'].values"
   ]
  },
  {
   "cell_type": "markdown",
   "metadata": {},
   "source": [
    "###  Training our model"
   ]
  },
  {
   "cell_type": "code",
   "execution_count": 22,
   "metadata": {},
   "outputs": [
    {
     "data": {
      "text/html": [
       "<div>\n",
       "<style scoped>\n",
       "    .dataframe tbody tr th:only-of-type {\n",
       "        vertical-align: middle;\n",
       "    }\n",
       "\n",
       "    .dataframe tbody tr th {\n",
       "        vertical-align: top;\n",
       "    }\n",
       "\n",
       "    .dataframe thead th {\n",
       "        text-align: right;\n",
       "    }\n",
       "</style>\n",
       "<table border=\"1\" class=\"dataframe\">\n",
       "  <thead>\n",
       "    <tr style=\"text-align: right;\">\n",
       "      <th></th>\n",
       "      <th>id</th>\n",
       "      <th>text</th>\n",
       "      <th>text_tokenized</th>\n",
       "    </tr>\n",
       "  </thead>\n",
       "  <tbody>\n",
       "    <tr>\n",
       "      <th>3100</th>\n",
       "      <td>40273</td>\n",
       "      <td>@DoubleEph sadly his best days are behind him</td>\n",
       "      <td>[@, DoubleEph, sadly, his, best, days, are, be...</td>\n",
       "    </tr>\n",
       "    <tr>\n",
       "      <th>2754</th>\n",
       "      <td>30750</td>\n",
       "      <td>@bear_ing you asshole... you made me sexually ...</td>\n",
       "      <td>[@, bear_ing, you, asshole, ..., you, made, me...</td>\n",
       "    </tr>\n",
       "    <tr>\n",
       "      <th>3168</th>\n",
       "      <td>40341</td>\n",
       "      <td>One way ticket to the blues.</td>\n",
       "      <td>[One, way, ticket, to, the, blues, .]</td>\n",
       "    </tr>\n",
       "    <tr>\n",
       "      <th>2364</th>\n",
       "      <td>30360</td>\n",
       "      <td>Not untill today has anyone ever said to me th...</td>\n",
       "      <td>[Not, untill, today, has, anyone, ever, said, ...</td>\n",
       "    </tr>\n",
       "    <tr>\n",
       "      <th>828</th>\n",
       "      <td>10828</td>\n",
       "      <td>I love when #girls are busy in teaching how to...</td>\n",
       "      <td>[I, love, when, #, girls, are, busy, in, teach...</td>\n",
       "    </tr>\n",
       "  </tbody>\n",
       "</table>\n",
       "</div>"
      ],
      "text/plain": [
       "         id                                               text  \\\n",
       "3100  40273      @DoubleEph sadly his best days are behind him   \n",
       "2754  30750  @bear_ing you asshole... you made me sexually ...   \n",
       "3168  40341                       One way ticket to the blues.   \n",
       "2364  30360  Not untill today has anyone ever said to me th...   \n",
       "828   10828  I love when #girls are busy in teaching how to...   \n",
       "\n",
       "                                         text_tokenized  \n",
       "3100  [@, DoubleEph, sadly, his, best, days, are, be...  \n",
       "2754  [@, bear_ing, you, asshole, ..., you, made, me...  \n",
       "3168              [One, way, ticket, to, the, blues, .]  \n",
       "2364  [Not, untill, today, has, anyone, ever, said, ...  \n",
       "828   [I, love, when, #, girls, are, busy, in, teach...  "
      ]
     },
     "execution_count": 22,
     "metadata": {},
     "output_type": "execute_result"
    }
   ],
   "source": [
    "from gensim.models import Word2Vec\n",
    "\n",
    "## the input type\n",
    "train_df['text_tokenized'] = train_df['text'].apply(lambda x: nltk.word_tokenize(x))\n",
    "train_df[['id', 'text', 'text_tokenized']].head()"
   ]
  },
  {
   "cell_type": "code",
   "execution_count": 23,
   "metadata": {},
   "outputs": [],
   "source": [
    "## setting\n",
    "vector_dim = 100\n",
    "window_size = 5\n",
    "min_count = 1\n",
    "training_iter = 20\n",
    "\n",
    "## model\n",
    "word2vec_model = Word2Vec(sentences=training_corpus, \n",
    "                          size=vector_dim, window=window_size, \n",
    "                          min_count=min_count, iter=training_iter)"
   ]
  },
  {
   "cell_type": "markdown",
   "metadata": {},
   "source": [
    "###  Generating word vector (embeddings)"
   ]
  },
  {
   "cell_type": "code",
   "execution_count": 24,
   "metadata": {
    "scrolled": true
   },
   "outputs": [
    {
     "data": {
      "text/plain": [
       "[('Makes', 0.9596039056777954),\n",
       " ('successful', 0.951937198638916),\n",
       " ('help', 0.9414056539535522),\n",
       " ('cats', 0.9354199767112732),\n",
       " ('memories😊', 0.9306946992874146),\n",
       " ('now', 0.928034245967865),\n",
       " ('RiceFODays', 0.9252266883850098),\n",
       " (\"'you\", 0.9238051176071167),\n",
       " ('apart', 0.923623263835907),\n",
       " ('CFL', 0.9227466583251953)]"
      ]
     },
     "execution_count": 24,
     "metadata": {},
     "output_type": "execute_result"
    }
   ],
   "source": [
    "# get the corresponding vector of a word\n",
    "word_vec = word2vec_model.wv['happy']\n",
    "\n",
    "# Get the most similar words\n",
    "word = 'happy'\n",
    "topn = 10\n",
    "word2vec_model.most_similar(word, topn=topn)"
   ]
  },
  {
   "cell_type": "markdown",
   "metadata": {},
   "source": [
    "---\n",
    "## >>> Exercise 7 (Take home): \n",
    "\n",
    "Now, we have the word vectors, but our input data is a sequence of words (or say sentence). \n",
    "How can we utilize these \"word\" vectors to represent the sentence data and train our model?\n"
   ]
  },
  {
   "cell_type": "markdown",
   "metadata": {},
   "source": [
    "### What would i do :\n",
    "As the above programing and output, we can get relation between words. So, to utilize the vector to predict the sentence. Maybe I can sum up the relation between the predict word and each word in the sentence. "
   ]
  },
  {
   "cell_type": "markdown",
   "metadata": {},
   "source": [
    "**example :**\n",
    "If I want to predict the emtion of the sentence,\n",
    "I can average all the correlative score of word, and choose the higher one to be predicted outcome. "
   ]
  },
  {
   "cell_type": "code",
   "execution_count": 26,
   "metadata": {
    "scrolled": true
   },
   "outputs": [
    {
     "name": "stdout",
     "output_type": "stream",
     "text": [
      "coerelation with anger:  0.9706893\n",
      "coerelation with joy :  0.8539695\n"
     ]
    }
   ],
   "source": [
    "## e.g. the relation between school and fear.\n",
    "print (\"coerelation with anger: \", word2vec_model.similarity('school' ,'anger')) \n",
    "print (\"coerelation with joy : \", word2vec_model.similarity('school' ,'joy')) \n"
   ]
  },
  {
   "cell_type": "code",
   "execution_count": 27,
   "metadata": {},
   "outputs": [],
   "source": [
    "## fuction to compute score of each predicted emotion\n",
    "def count_score( emotions, token ):\n",
    "    ## create score list\n",
    "    score = np.zeros(len(emotions))\n",
    "    i = 0\n",
    "    for emotion in emotions :\n",
    "        for word in token :\n",
    "            score[i] = score[i] + word2vec_model.similarity(word , emotion)\n",
    "        i+=1\n",
    "    return score"
   ]
  },
  {
   "cell_type": "code",
   "execution_count": 28,
   "metadata": {},
   "outputs": [
    {
     "name": "stdout",
     "output_type": "stream",
     "text": [
      "predict sentence :  How the fu*k! Who the heck! moved my fridge!... should I knock the landlord door. #angry #mad ##\n",
      "[21.63025784 20.85194886 19.73679674 21.45307168]\n",
      "Predicted emotion is : anger\n"
     ]
    }
   ],
   "source": [
    "## the emotion list I want to predict.\n",
    "emotion = ['anger','fear','joy','sadness']\n",
    "\n",
    "## Take the first sentence for demostration\n",
    "emotion_score =  count_score(emotion , train_df['text_tokenized'][0])\n",
    "print (\"predict sentence : \" , train_df['text'][0])\n",
    "print (emotion_score)\n",
    "\n",
    "## get the max value index\n",
    "index = np.argmax (emotion_score,axis=0)\n",
    "print (\"Predicted emotion is :\" ,emotion[index])"
   ]
  },
  {
   "cell_type": "code",
   "execution_count": 29,
   "metadata": {},
   "outputs": [
    {
     "name": "stdout",
     "output_type": "stream",
     "text": [
      "predict sentence :  I have to work\n",
      "[3.09156013 2.88995928 2.14264995 2.61122307]\n",
      "Predicted emotion is : anger\n"
     ]
    }
   ],
   "source": [
    "## predict other sentence. Take \"I have to work\" for example. \n",
    "import re\n",
    "sentence = \"I have to work\"\n",
    "## Split sentence into word.\n",
    "spilt_sentence = re.split('\\s+', sentence)\n",
    "\n",
    "emotion_score =  count_score(emotion , spilt_sentence)\n",
    "print (\"predict sentence : \" , sentence)\n",
    "print (emotion_score)\n",
    "index = np.argmax (emotion_score,axis=0)\n",
    "print (\"Predicted emotion is :\" ,emotion[index])"
   ]
  },
  {
   "cell_type": "markdown",
   "metadata": {},
   "source": [
    "By the code above, we can get a predicted emotion of a sentence by other word vectors we have."
   ]
  },
  {
   "cell_type": "markdown",
   "metadata": {},
   "source": [
    "---\n",
    "###  Prepare visualizing target\n",
    "\n",
    "Let's repare data lists like:\n",
    "    - happpy words\n",
    "    - angry words\n",
    "    - data words\n",
    "    - mining words"
   ]
  },
  {
   "cell_type": "code",
   "execution_count": 30,
   "metadata": {},
   "outputs": [
    {
     "name": "stdout",
     "output_type": "stream",
     "text": [
      "load ok\n"
     ]
    }
   ],
   "source": [
    "from gensim.models import KeyedVectors\n",
    "\n",
    "## Note: this model is very huge, this will take some time ...\n",
    "model_path = \"GoogleNews-vectors-negative300.bin.gz\"\n",
    "w2v_google_model = KeyedVectors.load_word2vec_format(model_path, binary=True)\n",
    "print('load ok')"
   ]
  },
  {
   "cell_type": "markdown",
   "metadata": {},
   "source": [
    "---\n",
    "###  >>> Exercise 8 (Take home):   \n",
    "\n",
    "Generate a t-SNE visualization to show the 15 words most related to the words \"angry\", \"happy\", \"sad\", \"fear\" (60 words total)."
   ]
  },
  {
   "cell_type": "code",
   "execution_count": null,
   "metadata": {
    "scrolled": true
   },
   "outputs": [],
   "source": [
    "word_list = ['happy', 'angry', 'sad', 'fear']\n",
    "\n",
    "topn = 15\n",
    "happy_words = ['happy'] + [word_ for word_, sim_ in w2v_google_model.most_similar('happy', topn=topn)]\n",
    "angry_words = ['angry'] + [word_ for word_, sim_ in w2v_google_model.most_similar('angry', topn=topn)]        \n",
    "sad_words = ['sad'] + [word_ for word_, sim_ in w2v_google_model.most_similar('sad', topn=topn)]        \n",
    "fear_words = ['fear'] + [word_ for word_, sim_ in w2v_google_model.most_similar('fear', topn=topn)]        \n",
    "\n",
    "print('happy_words: ', happy_words)\n",
    "print('angry_words: ', angry_words)\n",
    "print('sad_words: ', sad_words)\n",
    "print('fear_words: ', fear_words)\n",
    "\n",
    "target_words = happy_words + angry_words + sad_words + fear_words\n",
    "print('\\ntarget words: ')\n",
    "print(target_words)\n",
    "\n",
    "print('\\ncolor list:')\n",
    "cn = topn + 1\n",
    "color = ['b'] * cn + ['g'] * cn + ['r'] * cn + ['y'] * cn\n",
    "print(color)"
   ]
  },
  {
   "cell_type": "markdown",
   "metadata": {},
   "source": [
    "###  Plot using t-SNE (2-dimension)"
   ]
  },
  {
   "cell_type": "code",
   "execution_count": null,
   "metadata": {},
   "outputs": [],
   "source": [
    "%matplotlib inline\n",
    "import matplotlib.pyplot as plt\n",
    "from sklearn.manifold import TSNE\n",
    "\n",
    "## w2v model\n",
    "model = w2v_google_model\n",
    "\n",
    "## prepare training word vectors\n",
    "size = 200\n",
    "target_size = len(target_words)\n",
    "all_word = list(model.vocab.keys())\n",
    "word_train = target_words + all_word[:size]\n",
    "X_train = model[word_train]\n",
    "\n",
    "## t-SNE model\n",
    "tsne = TSNE(n_components=2, metric='cosine', random_state=28)\n",
    "\n",
    "## training\n",
    "X_tsne = tsne.fit_transform(X_train)\n",
    "\n",
    "## plot the result\n",
    "plt.figure(figsize=(7.5, 7.5), dpi=115)\n",
    "plt.scatter(X_tsne[:target_size, 0], X_tsne[:target_size, 1], c=color)\n",
    "for label, x, y in zip(target_words, X_tsne[:target_size, 0], X_tsne[:target_size, 1]):\n",
    "    plt.annotate(label, xy=(x,y), xytext=(0,0),  textcoords='offset points')\n",
    "plt.show()"
   ]
  },
  {
   "cell_type": "markdown",
   "metadata": {},
   "source": [
    "###  Plot using t-SNE (3-dimension)"
   ]
  },
  {
   "cell_type": "code",
   "execution_count": null,
   "metadata": {},
   "outputs": [],
   "source": [
    "from mpl_toolkits.mplot3d import Axes3D\n",
    "## t-SNE model, set components to 3 with PCA to be initialtion\n",
    "tsne = TSNE(n_components=3, init='pca', random_state=0 ,perplexity= 30,n_iter=1000)\n",
    "## training\n",
    "X_tsne = tsne.fit_transform(X_traain)\n",
    "\n",
    "## set 3D plot\n",
    "fig = plt.figure(figsize=(10, 10))\n",
    "\n",
    "ax = Axes3D(fig)\n",
    "# add zaxis for the third dimension.\n",
    "for label, x, y , z in zip(target_words, X_tsne[:target_size, 0], X_tsne[:target_size, 1],X_tsne[:target_size, 2]):\n",
    "    ax.text(x,y,z,  '%s' % (label), size=10, zorder=1,  color='k') \n",
    "    \n",
    "ax.scatter(X_tsne[:target_size, 0], X_tsne[:target_size, 1],X_tsne[:target_size, 2],s =30, c=color)\n",
    "ax.view_init(20, 50)\n",
    "plt.show()"
   ]
  },
  {
   "cell_type": "markdown",
   "metadata": {},
   "source": [
    "### what i observe ?\n",
    "It's supprise about the result in the 3D-plot with a worse classification. We can saw that in 2D-plot is remarkablely distinguishable, however they mix together when component going up to 3.\n",
    "\n",
    "### why this happen ?\n",
    "As the theory of PCA, we know that the components come from the projections in each eigenvector, so the distribution will just get a new value when dimension increase. However, t-SNE do the dimension reduction by probability fuction, it tend to keep the local feature by **transforming the Euclidean distance to probability**, so some intrinsic information is hard to be projected to lower dimension. Meanwhile, when projected dimension increase, we will take a risk to find a local singularity, which might have a worse performance than 2 dimension."
   ]
  }
 ],
 "metadata": {
  "kernelspec": {
   "display_name": "Python 3",
   "language": "python",
   "name": "python3"
  },
  "language_info": {
   "codemirror_mode": {
    "name": "ipython",
    "version": 3
   },
   "file_extension": ".py",
   "mimetype": "text/x-python",
   "name": "python",
   "nbconvert_exporter": "python",
   "pygments_lexer": "ipython3",
   "version": "3.7.1"
  }
 },
 "nbformat": 4,
 "nbformat_minor": 4
}
